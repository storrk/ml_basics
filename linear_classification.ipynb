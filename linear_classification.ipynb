{
 "cells": [
  {
   "cell_type": "code",
   "execution_count": null,
   "metadata": {},
   "outputs": [],
   "source": [
    "import torch\n",
    "from torchvision.datasets import MNIST\n",
    "from torchvision.transforms import v2\n",
    "from torch.utils.data.dataloader import DataLoader\n",
    "import torch.nn.functional as F\n",
    "import matplotlib.pyplot as plt \n",
    "import numpy as np\n",
    "\n",
    "\n",
    "resize = (28, 28)\n",
    "input_size = 28 * 28\n",
    "batch_size = 16\n",
    "learning_rate = 0.01\n",
    "epochs = 10\n",
    "\n",
    "classes_count = 10"
   ]
  },
  {
   "cell_type": "code",
   "execution_count": null,
   "metadata": {},
   "outputs": [],
   "source": [
    "transf = v2.Compose([\n",
    "    v2.Resize(resize),\n",
    "    v2.ToImage(),\n",
    "    v2.ToDtype(torch.float32, scale=True)\n",
    "])\n",
    "\n",
    "target_transf = lambda y: F.one_hot(torch.tensor(y), num_classes=classes_count).float()\n",
    "\n",
    "dataset_train = MNIST('./resources', transform=transf, target_transform=target_transf, train=True, download=True)\n",
    "dataset_test = MNIST('./resources', transform=transf, target_transform=target_transf, train=False, download=True)\n",
    "\n",
    "dataloader_train = DataLoader(dataset_train, batch_size, shuffle=True)\n",
    "dataloader_test = DataLoader(dataset_test, batch_size, shuffle=False)\n"
   ]
  },
  {
   "cell_type": "code",
   "execution_count": null,
   "metadata": {},
   "outputs": [],
   "source": [
    "class Model:\n",
    "    def __init__(self):\n",
    "        self.w = torch.normal(0.0, 0.01, (input_size, classes_count), requires_grad=True) \n",
    "        self.b = torch.normal(0.0, 0.01, (classes_count, ), requires_grad=True) \n",
    "\n",
    "    # 16 . 784 x 784 . 10\n",
    "    # takes batch of 28 x 28 matrices\n",
    "    # returns 10 outputs\n",
    "    def __call__(self, X):\n",
    "        X = X.reshape(X.shape[0], -1)\n",
    "        return X @ self.w + self.b\n",
    "    \n",
    "    def zero_grad(self):\n",
    "        self.w.grad.zero_()\n",
    "        self.b.grad.zero_()\n",
    "\n",
    "    def update(self):\n",
    "        with torch.no_grad():\n",
    "            self.w -= self.w.grad * learning_rate\n",
    "            self.b -= self.b.grad * learning_rate"
   ]
  },
  {
   "cell_type": "code",
   "execution_count": null,
   "metadata": {},
   "outputs": [],
   "source": [
    "def softmax(x):\n",
    "    exp_sum = torch.sum(torch.exp(x))\n",
    "    result = torch.exp(x) / exp_sum\n",
    "    return result\n",
    "\n",
    "def cross_entropy_loss(y, y_hat):\n",
    "    \"\"\"\n",
    "        y       - OHE vector of labels\n",
    "        y_hat   - raw values predicted from the model \n",
    "    \"\"\"\n",
    "    probs = softmax(y_hat)\n",
    "    return -torch.mean(torch.log(probs) * y)\n"
   ]
  },
  {
   "cell_type": "code",
   "execution_count": null,
   "metadata": {},
   "outputs": [],
   "source": [
    "def train(model, loss_fn, dataset):\n",
    "\n",
    "    total_loss = 0\n",
    "    \n",
    "    for i, (X, y) in enumerate(dataset):\n",
    "        pred = model(X)\n",
    "        loss = loss_fn(y, pred)\n",
    "        loss.backward()\n",
    "        model.update()\n",
    "        model.zero_grad()\n",
    "        total_loss += loss.item()\n",
    "\n",
    "        if i % 500 == 0:\n",
    "            print(f'Current train loss: {total_loss / ((i + 1) )}')\n",
    "\n",
    "def test(model, loss_fn, dataset):\n",
    "    with torch.no_grad():\n",
    "        full_loss = 0\n",
    "        correct_predictions = 0\n",
    "\n",
    "        for i, (X, y) in enumerate(dataset):\n",
    "            pred = model(X)\n",
    "            loss = loss_fn(y, pred)\n",
    "            full_loss += loss\n",
    "            correct_predictions += torch.sum(torch.argmax(pred, dim=1) == torch.argmax(y, dim=1))\n",
    "            \n",
    "\n",
    "        print(f'Test loss: {full_loss / len(dataset)}')\n",
    "        print(f'Test accuracy: {correct_predictions / len(dataset.dataset)}')\n"
   ]
  },
  {
   "cell_type": "code",
   "execution_count": null,
   "metadata": {},
   "outputs": [],
   "source": [
    "model = Model()\n",
    "\n",
    "for i in range(epochs):\n",
    "    print(f'EPOCH: {i + 1}')\n",
    "    train(model, cross_entropy_loss, dataloader_train)\n",
    "    test(model, cross_entropy_loss, dataloader_test)"
   ]
  },
  {
   "cell_type": "code",
   "execution_count": null,
   "metadata": {},
   "outputs": [],
   "source": [
    "r = torch.randint(0, len(dataset_train), (1, )).item()\n",
    "img = torch.reshape(dataset_train[r][0], (28, 28))\n",
    "plt.imshow(img)\n",
    "plt.show()\n",
    "peasant_input = int(input(\"What number is this?\"))\n",
    "\n",
    "result = model(torch.reshape(dataset_train[r][0], (1, 1, 28, 28)))\n",
    "rr = torch.argmax(result).item()\n",
    "real_label = torch.argmax(dataset_train[r][1]).item()\n",
    "print(f'Meatball peasant suggestion: {peasant_input}')\n",
    "print(f'My Awesome Model\\'s prediction: {rr}')\n",
    "print(f\"Actual label: {real_label}\")\n",
    "if peasant_input != real_label and rr == real_label:\n",
    "    print('Literally worse than a machine - LUZER!!!')\n",
    "    print('Literally worse than a machine - LUZER!!!')\n",
    "    print('Literally worse than a machine - LUZER!!!')\n",
    "    print('Literally worse than a machine - LUZER!!!')\n",
    "    print('Literally worse than a machine - LUZER!!!')\n",
    "    print('Literally worse than a machine - LUZER!!!')"
   ]
  }
 ],
 "metadata": {
  "kernelspec": {
   "display_name": "venv",
   "language": "python",
   "name": "python3"
  },
  "language_info": {
   "codemirror_mode": {
    "name": "ipython",
    "version": 3
   },
   "file_extension": ".py",
   "mimetype": "text/x-python",
   "name": "python",
   "nbconvert_exporter": "python",
   "pygments_lexer": "ipython3",
   "version": "3.13.3"
  }
 },
 "nbformat": 4,
 "nbformat_minor": 2
}
