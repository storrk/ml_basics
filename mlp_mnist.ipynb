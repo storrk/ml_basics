{
 "cells": [
  {
   "cell_type": "code",
   "execution_count": 29,
   "metadata": {},
   "outputs": [],
   "source": [
    "import torch\n",
    "from torchvision.datasets.mnist import MNIST\n",
    "from torch.utils.data.dataloader import DataLoader\n",
    "from torchvision.transforms import v2\n",
    "import torch.nn.functional as F\n",
    "import torch.nn as nn\n",
    "from matplotlib import pyplot as plt\n",
    "\n",
    "\n",
    "# constants\n",
    "batch_size = 16\n",
    "picture_size = (28, 28)\n",
    "picture_vector_size = 28 * 28\n",
    "hidden_unit_size = 128\n",
    "number_of_label_classes = 10\n",
    "epochs = 8\n",
    "learning_rate = 0.01"
   ]
  },
  {
   "cell_type": "code",
   "execution_count": 30,
   "metadata": {},
   "outputs": [],
   "source": [
    "# preparing data\n",
    "\n",
    "feature_transforms = v2.Compose([\n",
    "    v2.Resize(picture_size),\n",
    "    v2.ToImage(),\n",
    "    v2.ToDtype(torch.float32, scale=True),\n",
    "    v2.Lambda(lambda x: x.reshape(-1)) # squish 2d matrices into vectors\n",
    "])\n",
    "\n",
    "dataset_train = MNIST('./resources', train=True, download=True, transform=feature_transforms)\n",
    "dataset_test = MNIST('./resources', train=False, download=True, transform=feature_transforms)\n",
    "\n",
    "dataloader_train = DataLoader(dataset_train, batch_size=batch_size, shuffle=True)\n",
    "dataloader_test = DataLoader(dataset_test, batch_size=batch_size)"
   ]
  },
  {
   "cell_type": "code",
   "execution_count": 31,
   "metadata": {},
   "outputs": [],
   "source": [
    "# defining the model class\n",
    "\n",
    "class Model(nn.Module):\n",
    "    def __init__(self):\n",
    "        super().__init__()\n",
    "        self.model = nn.Sequential(\n",
    "            nn.Linear(picture_vector_size, hidden_unit_size),\n",
    "            nn.ReLU(),\n",
    "            nn.Linear(hidden_unit_size, number_of_label_classes)\n",
    "        )\n",
    "    \n",
    "    def forward(self, X):\n",
    "        result = self.model(X)\n",
    "        return result"
   ]
  },
  {
   "cell_type": "code",
   "execution_count": 32,
   "metadata": {},
   "outputs": [],
   "source": [
    "# train & test loop\n",
    "\n",
    "train_losses = [1]\n",
    "test_losses = [1]\n",
    "accuracy = [0]\n",
    "\n",
    "def train(model, loss_fn, optimizer, dataloader):\n",
    "    total_loss = 0\n",
    "\n",
    "    for i, (X, y) in enumerate(dataloader):\n",
    "        optimizer.zero_grad()\n",
    "\n",
    "        pred = model(X)\n",
    "        loss = loss_fn(pred, y)\n",
    "        loss.backward()\n",
    "        optimizer.step()\n",
    "        total_loss += loss.item()\n",
    "\n",
    "    train_losses.append(total_loss / len(dataloader))\n",
    "\n",
    "\n",
    "def test(model, loss_fn, dataloader):\n",
    "    with torch.no_grad():\n",
    "        full_loss = 0\n",
    "        correct_predictions = 0\n",
    "\n",
    "        for i, (X, y) in enumerate(dataloader):\n",
    "            pred = model(X)\n",
    "            loss = loss_fn(pred, y)\n",
    "            full_loss += loss\n",
    "            correct_predictions += torch.sum(torch.argmax(pred, dim=1) == y).item()\n",
    "\n",
    "        test_losses.append(full_loss / len(dataloader))\n",
    "        accuracy.append(correct_predictions / len(dataloader.dataset))\n",
    " "
   ]
  },
  {
   "cell_type": "code",
   "execution_count": null,
   "metadata": {},
   "outputs": [
    {
     "name": "stdout",
     "output_type": "stream",
     "text": [
      "EPOCH 1\n",
      "Train loss: 0.6208378638803959\n",
      "Test loss: 0.3248015344142914\n",
      "Accuracy: 0.9103\n",
      "EPOCH 2\n",
      "Train loss: 0.3063327048972249\n",
      "Test loss: 0.2684134542942047\n",
      "Accuracy: 0.9258\n",
      "EPOCH 3\n",
      "Train loss: 0.2572227278428773\n",
      "Test loss: 0.2346692830324173\n",
      "Accuracy: 0.9316\n",
      "EPOCH 4\n",
      "Train loss: 0.22509540668961903\n",
      "Test loss: 0.20859172940254211\n",
      "Accuracy: 0.9404\n",
      "EPOCH 5\n",
      "Train loss: 0.20036781322223446\n",
      "Test loss: 0.18647386133670807\n",
      "Accuracy: 0.9446\n",
      "EPOCH 6\n",
      "Train loss: 0.18066809093852837\n",
      "Test loss: 0.17214424908161163\n",
      "Accuracy: 0.9509\n",
      "EPOCH 7\n"
     ]
    }
   ],
   "source": [
    "model = Model()\n",
    "loss_fn = nn.CrossEntropyLoss()\n",
    "optimizer = torch.optim.SGD(model.parameters(), lr=learning_rate)\n",
    "\n",
    "for i in range(epochs):\n",
    "    print(f'EPOCH {i + 1}')\n",
    "    train(model, loss_fn, optimizer, dataloader_train)\n",
    "    test(model, loss_fn, dataloader_test)\n",
    "    print(f'Train loss: {train_losses[-1]}')\n",
    "    print(f'Test loss: {test_losses[-1]}')\n",
    "    print(f'Accuracy: {accuracy[-1]}')"
   ]
  },
  {
   "cell_type": "code",
   "execution_count": null,
   "metadata": {},
   "outputs": [],
   "source": [
    "plt.plot(train_losses, label='train_loss')\n",
    "plt.plot(test_losses,label='val_loss')\n",
    "plt.plot(accuracy, label='accuracy')\n",
    "plt.legend()\n",
    "plt.show()"
   ]
  }
 ],
 "metadata": {
  "kernelspec": {
   "display_name": "venv",
   "language": "python",
   "name": "python3"
  },
  "language_info": {
   "codemirror_mode": {
    "name": "ipython",
    "version": 3
   },
   "file_extension": ".py",
   "mimetype": "text/x-python",
   "name": "python",
   "nbconvert_exporter": "python",
   "pygments_lexer": "ipython3",
   "version": "3.13.3"
  }
 },
 "nbformat": 4,
 "nbformat_minor": 2
}
