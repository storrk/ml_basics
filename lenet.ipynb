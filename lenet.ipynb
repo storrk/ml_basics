{
 "cells": [
  {
   "cell_type": "code",
   "execution_count": null,
   "metadata": {},
   "outputs": [],
   "source": [
    "import torch\n",
    "from torchvision.datasets import MNIST\n",
    "from torchvision.transforms import v2\n",
    "from torch.utils.data.dataloader import DataLoader\n",
    "import torch.nn.functional as F\n",
    "import torch.nn as nn\n",
    "import matplotlib.pyplot as plt \n",
    "\n",
    "picture_size = (28, 28)\n",
    "batch_size = 16\n",
    "learning_rate = 0.01\n",
    "momentum = 0.9\n",
    "epochs = 10\n",
    "\n",
    "classes_count = 10"
   ]
  },
  {
   "cell_type": "code",
   "execution_count": null,
   "metadata": {},
   "outputs": [],
   "source": [
    "# preparing data\n",
    "\n",
    "feature_transforms = v2.Compose([\n",
    "    v2.Resize(picture_size),\n",
    "    v2.ToImage(),\n",
    "    v2.ToDtype(torch.float32),\n",
    "    v2.Normalize((0.1307, ), (0.3081,))\n",
    "])\n",
    "\n",
    "dataset_train = MNIST('./resources', train=True, download=True, transform=feature_transforms)\n",
    "dataset_test = MNIST('./resources', train=False, download=True, transform=feature_transforms)\n",
    "\n",
    "dataloader_train = DataLoader(dataset_train, batch_size=batch_size, shuffle=True)\n",
    "dataloader_test = DataLoader(dataset_test, batch_size=batch_size)"
   ]
  },
  {
   "cell_type": "code",
   "execution_count": null,
   "metadata": {},
   "outputs": [],
   "source": [
    "# lenet-5\n",
    "\n",
    "class LeNet(nn.Module):\n",
    "    def __init__(self):\n",
    "        super().__init__()\n",
    "        self.net = nn.Sequential(\n",
    "            nn.Conv2d(in_channels=1, out_channels=6, kernel_size=5, padding=2),\n",
    "            nn.Sigmoid(),\n",
    "            nn.AvgPool2d(kernel_size=2, stride=2),\n",
    "            nn.Conv2d(in_channels=6, out_channels=16, kernel_size=5),\n",
    "            nn.Sigmoid(),\n",
    "            nn.AvgPool2d(kernel_size=2, stride=2),\n",
    "            nn.Flatten(),\n",
    "            nn.Linear(in_features=400, out_features=120),\n",
    "            nn.Sigmoid(),\n",
    "            nn.Linear(in_features=120, out_features=84),\n",
    "            nn.Sigmoid(),\n",
    "            nn.Linear(in_features=84, out_features=10)\n",
    "        )\n",
    "\n",
    "        for module in self.net:\n",
    "            if type(module) == nn.Linear or type(module) == nn.Conv2d:\n",
    "                nn.init.xavier_uniform_(module.weight)\n",
    "\n",
    "    def forward(self, X):\n",
    "        return self.net(X)"
   ]
  },
  {
   "cell_type": "code",
   "execution_count": null,
   "metadata": {},
   "outputs": [],
   "source": [
    "# train & test loop\n",
    "\n",
    "train_losses = [1.5]\n",
    "test_losses = [1.5]\n",
    "accuracy = [0]\n",
    "\n",
    "def train(model, loss_fn, optimizer, dataloader):\n",
    "    model.train()\n",
    "    total_loss = 0\n",
    "\n",
    "    for i, (X, y) in enumerate(dataloader):\n",
    "        optimizer.zero_grad()\n",
    "\n",
    "        pred = model(X)\n",
    "        loss = loss_fn(pred, y)\n",
    "        loss.backward()\n",
    "        optimizer.step()\n",
    "        total_loss += loss.item()\n",
    "\n",
    "    train_losses.append(total_loss / len(dataloader))\n",
    "\n",
    "\n",
    "def test(model, loss_fn, dataloader):\n",
    "    model.eval()\n",
    "    with torch.no_grad():\n",
    "        full_loss = 0\n",
    "        correct_predictions = 0\n",
    "\n",
    "        for i, (X, y) in enumerate(dataloader):\n",
    "            pred = model(X)\n",
    "            loss = loss_fn(pred, y)\n",
    "            full_loss += loss\n",
    "            correct_predictions += torch.sum(torch.argmax(pred, dim=1) == y).item()\n",
    "\n",
    "        test_losses.append(full_loss / len(dataloader))\n",
    "        accuracy.append(correct_predictions / len(dataloader.dataset))\n",
    " "
   ]
  },
  {
   "cell_type": "code",
   "execution_count": 99,
   "metadata": {},
   "outputs": [
    {
     "name": "stdout",
     "output_type": "stream",
     "text": [
      "EPOCH 1\n",
      "Train loss: 1.0740067231913408\n",
      "Test loss: 0.32414841651916504\n",
      "Accuracy: 0.9018\n",
      "EPOCH 2\n",
      "Train loss: 0.25024789372036854\n",
      "Test loss: 0.1596117466688156\n",
      "Accuracy: 0.9505\n",
      "EPOCH 3\n",
      "Train loss: 0.14845691188853233\n",
      "Test loss: 0.11077425628900528\n",
      "Accuracy: 0.9663\n",
      "EPOCH 4\n",
      "Train loss: 0.11240484672064582\n",
      "Test loss: 0.0888376384973526\n",
      "Accuracy: 0.9723\n",
      "EPOCH 5\n",
      "Train loss: 0.09948807480608424\n",
      "Test loss: 0.08173153549432755\n",
      "Accuracy: 0.9723\n",
      "EPOCH 6\n",
      "Train loss: 0.08732424652224097\n",
      "Test loss: 0.07696457207202911\n",
      "Accuracy: 0.9748\n",
      "EPOCH 7\n",
      "Train loss: 0.07611938611737763\n",
      "Test loss: 0.07083074748516083\n",
      "Accuracy: 0.9772\n",
      "EPOCH 8\n",
      "Train loss: 0.06708311091891955\n",
      "Test loss: 0.059075336903333664\n",
      "Accuracy: 0.9801\n",
      "EPOCH 9\n",
      "Train loss: 0.06427283096190853\n",
      "Test loss: 0.06059274822473526\n",
      "Accuracy: 0.9801\n",
      "EPOCH 10\n",
      "Train loss: 0.0618212801894173\n",
      "Test loss: 0.05619364604353905\n",
      "Accuracy: 0.982\n"
     ]
    }
   ],
   "source": [
    "model = LeNet()\n",
    "loss_fn = nn.CrossEntropyLoss()\n",
    "optimizer = torch.optim.SGD(model.parameters(), lr=learning_rate, momentum=momentum)\n",
    "\n",
    "for i in range(epochs):\n",
    "    print(f'EPOCH {i + 1}')\n",
    "    train(model, loss_fn, optimizer, dataloader_train)\n",
    "    test(model, loss_fn, dataloader_test)\n",
    "    print(f'Train loss: {train_losses[-1]}')\n",
    "    print(f'Test loss: {test_losses[-1]}')\n",
    "    print(f'Accuracy: {accuracy[-1]}')"
   ]
  },
  {
   "cell_type": "code",
   "execution_count": 100,
   "metadata": {},
   "outputs": [
    {
     "data": {
      "image/png": "[encoded data removed]",
      "text/plain": [
       "<Figure size 640x480 with 1 Axes>"
      ]
     },
     "metadata": {},
     "output_type": "display_data"
    }
   ],
   "source": [
    "plt.plot(train_losses, label='train_loss')\n",
    "plt.plot(test_losses, label='val_loss')\n",
    "plt.plot(accuracy, label='accuracy')\n",
    "plt.legend()\n",
    "plt.show()"
   ]
  }
 ],
 "metadata": {
  "kernelspec": {
   "display_name": "venv",
   "language": "python",
   "name": "python3"
  },
  "language_info": {
   "codemirror_mode": {
    "name": "ipython",
    "version": 3
   },
   "file_extension": ".py",
   "mimetype": "text/x-python",
   "name": "python",
   "nbconvert_exporter": "python",
   "pygments_lexer": "ipython3",
   "version": "3.13.3"
  }
 },
 "nbformat": 4,
 "nbformat_minor": 2
}
